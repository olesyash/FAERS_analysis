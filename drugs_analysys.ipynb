{
 "cells": [
  {
   "metadata": {},
   "cell_type": "markdown",
   "source": "This is final project for the course \"Machine Learining in Graphs\"",
   "id": "486f23ac18854359"
  },
  {
   "cell_type": "code",
   "id": "initial_id",
   "metadata": {
    "collapsed": true,
    "ExecuteTime": {
     "end_time": "2024-10-02T13:04:38.201203Z",
     "start_time": "2024-10-02T13:04:38.173198Z"
    }
   },
   "source": [
    "\n",
    "import pandas as pd\n",
    "from load_data import load_xml_to_df\n",
    "import networkx as nx\n",
    "from consts import *\n",
    "from build_graph import build_bi_partite_graph\n",
    "import math\n",
    "from itertools import combinations\n",
    "\n",
    "import matplotlib.pyplot as plt\n",
    "import numpy as np\n",
    "from catboost import CatBoostClassifier\n",
    "from matplotlib_venn import venn2\n",
    "from tqdm.auto import tqdm\n",
    "\n",
    "import data_utils\n",
    "import graph_utils\n",
    "from sklearn.model_selection import train_test_split\n",
    "import seaborn as sns\n",
    "from sklearn.metrics import roc_curve, roc_auc_score, auc"
   ],
   "outputs": [],
   "execution_count": 61
  },
  {
   "metadata": {
    "ExecuteTime": {
     "end_time": "2024-10-02T13:04:47.758196Z",
     "start_time": "2024-10-02T13:04:38.236200Z"
    }
   },
   "cell_type": "code",
   "source": [
    "\n",
    "# data = load_xml_to_df(\"1_ADR24Q2.xml\")\n",
    "train_data = pd.read_csv(\"2021_Q1.csv\")\n",
    "train_data = pd.concat([train_data, pd.read_csv(\"2021_Q2.csv\")])\n",
    "train_data = pd.concat([train_data, pd.read_csv(\"2021_Q3.csv\")])\n",
    "validation_data = pd.read_csv(\"2021_Q4.csv\")\n",
    "\n",
    "\n",
    "# data = pd.read_csv(\"2021.csv\")\n",
    "# [6439916 rows x 3 columns]\n",
    "# data = data.head(6439916)"
   ],
   "id": "c8801f8116a22833",
   "outputs": [
    {
     "ename": "ParserError",
     "evalue": "Error tokenizing data. C error: Calling read(nbytes) on source failed. Try engine='python'.",
     "output_type": "error",
     "traceback": [
      "\u001B[1;31m---------------------------------------------------------------------------\u001B[0m",
      "\u001B[1;31mParserError\u001B[0m                               Traceback (most recent call last)",
      "Cell \u001B[1;32mIn[62], line 3\u001B[0m\n\u001B[0;32m      1\u001B[0m \u001B[38;5;66;03m# data = load_xml_to_df(\"1_ADR24Q2.xml\")\u001B[39;00m\n\u001B[0;32m      2\u001B[0m train_data \u001B[38;5;241m=\u001B[39m pd\u001B[38;5;241m.\u001B[39mread_csv(\u001B[38;5;124m\"\u001B[39m\u001B[38;5;124m2021_Q1.csv\u001B[39m\u001B[38;5;124m\"\u001B[39m)\n\u001B[1;32m----> 3\u001B[0m train_data \u001B[38;5;241m=\u001B[39m pd\u001B[38;5;241m.\u001B[39mconcat([train_data, \u001B[43mpd\u001B[49m\u001B[38;5;241;43m.\u001B[39;49m\u001B[43mread_csv\u001B[49m\u001B[43m(\u001B[49m\u001B[38;5;124;43m\"\u001B[39;49m\u001B[38;5;124;43m2021_Q2.csv\u001B[39;49m\u001B[38;5;124;43m\"\u001B[39;49m\u001B[43m)\u001B[49m])\n\u001B[0;32m      4\u001B[0m train_data \u001B[38;5;241m=\u001B[39m pd\u001B[38;5;241m.\u001B[39mconcat([train_data, pd\u001B[38;5;241m.\u001B[39mread_csv(\u001B[38;5;124m\"\u001B[39m\u001B[38;5;124m2021_Q3.csv\u001B[39m\u001B[38;5;124m\"\u001B[39m)])\n\u001B[0;32m      5\u001B[0m validation_data \u001B[38;5;241m=\u001B[39m pd\u001B[38;5;241m.\u001B[39mread_csv(\u001B[38;5;124m\"\u001B[39m\u001B[38;5;124m2021_Q4.csv\u001B[39m\u001B[38;5;124m\"\u001B[39m)\n",
      "File \u001B[1;32m~\\AppData\\Local\\Programs\\Python\\Python39\\lib\\site-packages\\pandas\\io\\parsers\\readers.py:1026\u001B[0m, in \u001B[0;36mread_csv\u001B[1;34m(filepath_or_buffer, sep, delimiter, header, names, index_col, usecols, dtype, engine, converters, true_values, false_values, skipinitialspace, skiprows, skipfooter, nrows, na_values, keep_default_na, na_filter, verbose, skip_blank_lines, parse_dates, infer_datetime_format, keep_date_col, date_parser, date_format, dayfirst, cache_dates, iterator, chunksize, compression, thousands, decimal, lineterminator, quotechar, quoting, doublequote, escapechar, comment, encoding, encoding_errors, dialect, on_bad_lines, delim_whitespace, low_memory, memory_map, float_precision, storage_options, dtype_backend)\u001B[0m\n\u001B[0;32m   1013\u001B[0m kwds_defaults \u001B[38;5;241m=\u001B[39m _refine_defaults_read(\n\u001B[0;32m   1014\u001B[0m     dialect,\n\u001B[0;32m   1015\u001B[0m     delimiter,\n\u001B[1;32m   (...)\u001B[0m\n\u001B[0;32m   1022\u001B[0m     dtype_backend\u001B[38;5;241m=\u001B[39mdtype_backend,\n\u001B[0;32m   1023\u001B[0m )\n\u001B[0;32m   1024\u001B[0m kwds\u001B[38;5;241m.\u001B[39mupdate(kwds_defaults)\n\u001B[1;32m-> 1026\u001B[0m \u001B[38;5;28;01mreturn\u001B[39;00m \u001B[43m_read\u001B[49m\u001B[43m(\u001B[49m\u001B[43mfilepath_or_buffer\u001B[49m\u001B[43m,\u001B[49m\u001B[43m \u001B[49m\u001B[43mkwds\u001B[49m\u001B[43m)\u001B[49m\n",
      "File \u001B[1;32m~\\AppData\\Local\\Programs\\Python\\Python39\\lib\\site-packages\\pandas\\io\\parsers\\readers.py:626\u001B[0m, in \u001B[0;36m_read\u001B[1;34m(filepath_or_buffer, kwds)\u001B[0m\n\u001B[0;32m    623\u001B[0m     \u001B[38;5;28;01mreturn\u001B[39;00m parser\n\u001B[0;32m    625\u001B[0m \u001B[38;5;28;01mwith\u001B[39;00m parser:\n\u001B[1;32m--> 626\u001B[0m     \u001B[38;5;28;01mreturn\u001B[39;00m \u001B[43mparser\u001B[49m\u001B[38;5;241;43m.\u001B[39;49m\u001B[43mread\u001B[49m\u001B[43m(\u001B[49m\u001B[43mnrows\u001B[49m\u001B[43m)\u001B[49m\n",
      "File \u001B[1;32m~\\AppData\\Local\\Programs\\Python\\Python39\\lib\\site-packages\\pandas\\io\\parsers\\readers.py:1923\u001B[0m, in \u001B[0;36mTextFileReader.read\u001B[1;34m(self, nrows)\u001B[0m\n\u001B[0;32m   1916\u001B[0m nrows \u001B[38;5;241m=\u001B[39m validate_integer(\u001B[38;5;124m\"\u001B[39m\u001B[38;5;124mnrows\u001B[39m\u001B[38;5;124m\"\u001B[39m, nrows)\n\u001B[0;32m   1917\u001B[0m \u001B[38;5;28;01mtry\u001B[39;00m:\n\u001B[0;32m   1918\u001B[0m     \u001B[38;5;66;03m# error: \"ParserBase\" has no attribute \"read\"\u001B[39;00m\n\u001B[0;32m   1919\u001B[0m     (\n\u001B[0;32m   1920\u001B[0m         index,\n\u001B[0;32m   1921\u001B[0m         columns,\n\u001B[0;32m   1922\u001B[0m         col_dict,\n\u001B[1;32m-> 1923\u001B[0m     ) \u001B[38;5;241m=\u001B[39m \u001B[38;5;28;43mself\u001B[39;49m\u001B[38;5;241;43m.\u001B[39;49m\u001B[43m_engine\u001B[49m\u001B[38;5;241;43m.\u001B[39;49m\u001B[43mread\u001B[49m\u001B[43m(\u001B[49m\u001B[43m  \u001B[49m\u001B[38;5;66;43;03m# type: ignore[attr-defined]\u001B[39;49;00m\n\u001B[0;32m   1924\u001B[0m \u001B[43m        \u001B[49m\u001B[43mnrows\u001B[49m\n\u001B[0;32m   1925\u001B[0m \u001B[43m    \u001B[49m\u001B[43m)\u001B[49m\n\u001B[0;32m   1926\u001B[0m \u001B[38;5;28;01mexcept\u001B[39;00m \u001B[38;5;167;01mException\u001B[39;00m:\n\u001B[0;32m   1927\u001B[0m     \u001B[38;5;28mself\u001B[39m\u001B[38;5;241m.\u001B[39mclose()\n",
      "File \u001B[1;32m~\\AppData\\Local\\Programs\\Python\\Python39\\lib\\site-packages\\pandas\\io\\parsers\\c_parser_wrapper.py:234\u001B[0m, in \u001B[0;36mCParserWrapper.read\u001B[1;34m(self, nrows)\u001B[0m\n\u001B[0;32m    232\u001B[0m \u001B[38;5;28;01mtry\u001B[39;00m:\n\u001B[0;32m    233\u001B[0m     \u001B[38;5;28;01mif\u001B[39;00m \u001B[38;5;28mself\u001B[39m\u001B[38;5;241m.\u001B[39mlow_memory:\n\u001B[1;32m--> 234\u001B[0m         chunks \u001B[38;5;241m=\u001B[39m \u001B[38;5;28;43mself\u001B[39;49m\u001B[38;5;241;43m.\u001B[39;49m\u001B[43m_reader\u001B[49m\u001B[38;5;241;43m.\u001B[39;49m\u001B[43mread_low_memory\u001B[49m\u001B[43m(\u001B[49m\u001B[43mnrows\u001B[49m\u001B[43m)\u001B[49m\n\u001B[0;32m    235\u001B[0m         \u001B[38;5;66;03m# destructive to chunks\u001B[39;00m\n\u001B[0;32m    236\u001B[0m         data \u001B[38;5;241m=\u001B[39m _concatenate_chunks(chunks)\n",
      "File \u001B[1;32mparsers.pyx:838\u001B[0m, in \u001B[0;36mpandas._libs.parsers.TextReader.read_low_memory\u001B[1;34m()\u001B[0m\n",
      "File \u001B[1;32mparsers.pyx:905\u001B[0m, in \u001B[0;36mpandas._libs.parsers.TextReader._read_rows\u001B[1;34m()\u001B[0m\n",
      "File \u001B[1;32mparsers.pyx:874\u001B[0m, in \u001B[0;36mpandas._libs.parsers.TextReader._tokenize_rows\u001B[1;34m()\u001B[0m\n",
      "File \u001B[1;32mparsers.pyx:891\u001B[0m, in \u001B[0;36mpandas._libs.parsers.TextReader._check_tokenize_status\u001B[1;34m()\u001B[0m\n",
      "File \u001B[1;32mparsers.pyx:2061\u001B[0m, in \u001B[0;36mpandas._libs.parsers.raise_parser_error\u001B[1;34m()\u001B[0m\n",
      "\u001B[1;31mParserError\u001B[0m: Error tokenizing data. C error: Calling read(nbytes) on source failed. Try engine='python'."
     ]
    }
   ],
   "execution_count": 62
  },
  {
   "metadata": {
    "ExecuteTime": {
     "end_time": "2024-10-02T13:11:17.017436Z",
     "start_time": "2024-10-02T13:06:33.667648Z"
    }
   },
   "cell_type": "code",
   "source": [
    "graph = build_bi_partite_graph(train_data, DRUG, REACTION)\n",
    "print(graph)\n",
    "nx.write_graphml(graph, \"graph1.graphml\")\n",
    "\n",
    "validation_graph = build_bi_partite_graph(validation_data, DRUG, REACTION)\n"
   ],
   "id": "f01f9963b25839d5",
   "outputs": [
    {
     "data": {
      "text/plain": [
       "Building graph:   0%|          | 0/3301076 [00:00<?, ?it/s]"
      ],
      "application/vnd.jupyter.widget-view+json": {
       "version_major": 2,
       "version_minor": 0,
       "model_id": "770e4e42e9ca476a849df89dcdd73da8"
      }
     },
     "metadata": {},
     "output_type": "display_data"
    },
    {
     "name": "stdout",
     "output_type": "stream",
     "text": [
      "Graph with 33948 nodes and 816093 edges\n"
     ]
    }
   ],
   "execution_count": 64
  },
  {
   "metadata": {
    "ExecuteTime": {
     "end_time": "2024-10-02T13:04:47.772197Z",
     "start_time": "2024-10-02T13:04:47.772197Z"
    }
   },
   "cell_type": "code",
   "source": [
    "# Extract edges from both graphs\n",
    "# edges_in_graph = set(graph.edges())\n",
    "# edges_in_validation_graph = set(validation_graph.edges())\n",
    "# \n",
    "# # Find new edges in validation_graph that are not in graph\n",
    "# new_edges = edges_in_validation_graph - edges_in_graph\n",
    "# print(f\"Number of new edges: {len(new_edges)}\")\n",
    "# # convert to a pandas DataFrame\n",
    "# new_edges = pd.Series(list(new_edges))\n",
    "# # create bi pirate graph from new edges\n",
    "# validation_graph = build_bi_partite_graph(validation_data, DRUG, REACTION)\n",
    "new_edges = validation_graph[ (validation_graph[DRUG], validation_graph[REACTION]) not in graph.edges()  ]\n",
    "\n"
   ],
   "id": "1f8db3ab817ef6c1",
   "outputs": [],
   "execution_count": null
  },
  {
   "metadata": {
    "ExecuteTime": {
     "end_time": "2024-10-02T13:04:47.776200Z",
     "start_time": "2024-10-02T13:04:47.775201Z"
    }
   },
   "cell_type": "code",
   "source": [
    "edges_with_attributes = graph.edges(data=True)\n",
    "sorted_edges = sorted(edges_with_attributes, key=lambda x: x[2]['weight'], reverse=True)\n",
    "top_edges = sorted_edges[:500]\n",
    "new_graph = nx.Graph()\n",
    "new_graph.add_edges_from(top_edges)\n",
    "\n",
    "layout = nx.spring_layout(new_graph, weight=\"weight\")\n",
    "nx.draw(new_graph, layout, node_size=30,\n",
    "        with_labels=True,\n",
    "        font_size=8)\n",
    "nx.write_graphml(new_graph, \"graph3.graphml\")"
   ],
   "id": "cb8785036b5b6435",
   "outputs": [],
   "execution_count": null
  },
  {
   "metadata": {},
   "cell_type": "code",
   "source": [
    "data = []\n",
    "for _ in range(10000):\n",
    "    u = np.random.choice(graph.nodes)\n",
    "    v = np.random.choice(graph.nodes)\n",
    "    has_edge = graph.has_edge(u, v)\n",
    "    jaccard_coefficient = nx.jaccard_coefficient(graph, [(u, v)])\n",
    "    adamic_adar_index = nx.adamic_adar_index(graph, [(u, v)])\n",
    "    preferential_attachment = nx.preferential_attachment(graph, [(u, v)])\n",
    "    common_neighbors = nx.common_neighbors(graph, u, v)\n",
    "    resource_allocation_index = nx.resource_allocation_index(graph, [(u, v)])\n",
    "    data.append(\n",
    "        {\n",
    "            \"u\": u,\n",
    "            \"v\": v,\n",
    "            \"has_edge\": has_edge,\n",
    "            \"metric_name\": \"jaccard_coefficient\",\n",
    "            \"metric_value\": list(jaccard_coefficient)[0][-1],\n",
    "        }\n",
    "    )\n",
    "    data.append(\n",
    "        {\n",
    "            \"u\": u,\n",
    "            \"v\": v,\n",
    "            \"has_edge\": has_edge,\n",
    "            \"metric_name\": \"adamic_adar_index\",\n",
    "            \"metric_value\": list(adamic_adar_index)[0][-1],\n",
    "        }\n",
    "    )\n",
    "    data.append(\n",
    "        {\n",
    "            \"u\": u,\n",
    "            \"v\": v,\n",
    "            \"has_edge\": has_edge,\n",
    "            \"metric_name\": \"preferential_attachment\",\n",
    "            \"metric_value\": list(preferential_attachment)[0][-1],\n",
    "        }\n",
    "    )\n",
    "    data.append(\n",
    "        {\n",
    "            \"u\": u,\n",
    "            \"v\": v,\n",
    "            \"has_edge\": has_edge,\n",
    "            \"metric_name\": \"common_neighbors\",\n",
    "            \"metric_value\": len(list(common_neighbors)),\n",
    "        }\n",
    "    )\n",
    "    data.append(\n",
    "        {\n",
    "            \"u\": u,\n",
    "            \"v\": v,\n",
    "            \"has_edge\": has_edge,\n",
    "            \"metric_name\": \"resource_allocation_index\",\n",
    "            \"metric_value\": list(resource_allocation_index)[0][-1],\n",
    "        }\n",
    "    )\n",
    "\n",
    "df_metrics = pd.DataFrame(data)\n",
    "df_metrics"
   ],
   "id": "7645aeb72ac98d0d",
   "outputs": [],
   "execution_count": null
  },
  {
   "metadata": {
    "ExecuteTime": {
     "end_time": "2024-10-02T13:04:47.783198Z",
     "start_time": "2024-10-02T13:04:47.782198Z"
    }
   },
   "cell_type": "code",
   "source": [
    "df_x = df_metrics.pivot_table(\n",
    "    index=[\"u\", \"v\"], columns=\"metric_name\", values=\"metric_value\"\n",
    ").reset_index()\n",
    "df_x"
   ],
   "id": "2997aeb2f5ade24d",
   "outputs": [],
   "execution_count": null
  },
  {
   "metadata": {
    "ExecuteTime": {
     "end_time": "2024-10-02T13:04:47.786197Z",
     "start_time": "2024-10-02T13:04:47.786197Z"
    }
   },
   "cell_type": "code",
   "source": [
    "\n",
    "\n",
    "X = df_x.drop(columns=[\"u\", \"v\"])\n",
    "y = np.array(\n",
    "    [\n",
    "        graph.has_edge(row.u, row.v)\n",
    "        for _, row in df_x.iterrows()\n",
    "    ]\n",
    ")\n",
    "weight = np.array([1 if has_edge else 0.05 for has_edge in y])\n",
    "y"
   ],
   "id": "7f3308049da693a7",
   "outputs": [],
   "execution_count": null
  },
  {
   "metadata": {
    "ExecuteTime": {
     "end_time": "2024-10-02T13:04:47.789199Z",
     "start_time": "2024-10-02T13:04:47.788198Z"
    }
   },
   "cell_type": "code",
   "source": [
    "X_train, X_test, y_train, y_test, weight_train, weight_test = train_test_split(\n",
    "    X, y, weight, test_size=0.2, random_state=42\n",
    ")\n",
    "# Check for data leakage\n",
    "print(\"Training set size:\", X_train.shape)\n",
    "print(\"Test set size:\", X_test.shape)\n",
    "\n",
    "# Inspect the first few rows of the training data\n",
    "print(X_train.head())\n",
    "print(y_train[:5])\n"
   ],
   "id": "6a63f25e37fab9e",
   "outputs": [],
   "execution_count": null
  },
  {
   "metadata": {},
   "cell_type": "code",
   "source": [
    "%matplotlib inline\n",
    "model = CatBoostClassifier(\n",
    "    n_estimators=500,\n",
    "    learning_rate=0.001,\n",
    "    depth=12,\n",
    "    eval_metric=\"AUC\",\n",
    "    loss_function=\"Logloss\",\n",
    "    l2_leaf_reg=4,\n",
    "    verbose=False,\n",
    ")\n",
    "model.fit(\n",
    "    X_train,\n",
    "    y_train,\n",
    "    sample_weight=weight_train,\n",
    "    eval_set=(X_test, y_test),\n",
    "    early_stopping_rounds=150,\n",
    "    plot=True,\n",
    "    verbose=True,\n",
    ")"
   ],
   "id": "40414d1392ccd074",
   "outputs": [],
   "execution_count": null
  },
  {
   "metadata": {},
   "cell_type": "code",
   "source": [
    "feature_importance = (\n",
    "    pd.DataFrame(\n",
    "        model.get_feature_importance(), index=X.columns, columns=[\"importance\"]\n",
    "    )\n",
    "    .sort_values(\"importance\", ascending=True)\n",
    "    .tail(30)\n",
    ")\n",
    "feature_importance.plot(kind=\"barh\", title=\"Feature importance\")"
   ],
   "id": "63ffbc23f7105c87",
   "outputs": [],
   "execution_count": null
  },
  {
   "metadata": {
    "ExecuteTime": {
     "end_time": "2024-10-02T13:55:28.621093Z",
     "start_time": "2024-10-02T13:39:24.134867Z"
    }
   },
   "cell_type": "code",
   "source": [
    "# new_edges = validation_graph[ (validation_graph[DRUG], validation_graph[REACTION]) not in graph.edges() ]\n",
    "\n",
    "# Extract edges from both graphs\n",
    "edges_in_graph = set(graph.edges())\n",
    "edges_in_validation_graph = set(validation_graph.edges())\n",
    "\n",
    "# Find new edges in validation_graph that are not in graph\n",
    "new_edges = edges_in_validation_graph - edges_in_graph\n",
    "\n",
    "# Convert the set of new edges to a DataFrame\n",
    "new_edges = pd.DataFrame(list(new_edges), columns=[DRUG, REACTION])\n",
    "\n",
    "\n",
    "def check_prediction(drug, newly_added_edges, graph_before, cutoff=0.5):\n",
    "    newly_added_edges_to_drug = newly_added_edges[newly_added_edges[DRUG] == drug]\n",
    "    n_added = newly_added_edges_to_drug.shape[0]\n",
    "    print(f\"The node {drug} has {n_added:,} new neighbors.\")\n",
    "    \n",
    "    if not n_added:\n",
    "        return\n",
    "    \n",
    "    to_predict_x = []\n",
    "    to_predict_y = []\n",
    "    \n",
    "    reaction_nodes = [node for node, data in graph_before.nodes(data=True) if data['type'] == REACTION]\n",
    "    print(f\"Reactions len: {len(reaction_nodes)}\")\n",
    "    for target in tqdm(reaction_nodes, desc=\"Processing reaction nodes\"):\n",
    "        if target == drug:\n",
    "            continue\n",
    "        \n",
    "        u, v = (target, drug)\n",
    "        \n",
    "        jaccard_coefficient = nx.jaccard_coefficient(graph_before, [(u, v)])\n",
    "        adamic_adar_index = nx.adamic_adar_index(graph_before, [(u, v)])\n",
    "        preferential_attachment = nx.preferential_attachment(graph_before, [(u, v)])\n",
    "        common_neighbors = nx.common_neighbors(graph_before, u, v)\n",
    "        resource_allocation_index = nx.resource_allocation_index(graph_before, [(u, v)])\n",
    "        \n",
    "        x_other = pd.Series({\n",
    "            \"adamic_adar_index\": list(adamic_adar_index)[0][-1],\n",
    "            \"common_neighbors\": len(list(common_neighbors)),\n",
    "            \"jaccard_coefficient\": list(jaccard_coefficient)[0][-1],\n",
    "            \"preferential_attachment\": list(preferential_attachment)[0][-1],\n",
    "            \"resource_allocation_index\": list(resource_allocation_index)[0][-1],\n",
    "        })\n",
    "        \n",
    "        to_predict_x.append(x_other)\n",
    "        to_predict_y.append(\n",
    "            newly_added_edges[\n",
    "                (newly_added_edges[DRUG] == drug) & (newly_added_edges[REACTION] == target)\n",
    "            ].shape[0] > 0\n",
    "        )\n",
    "        # print(f\"Added edge: {u}, {v}\")\n",
    "    \n",
    "    to_predict_x = pd.DataFrame(to_predict_x)\n",
    "    observed = np.array(to_predict_y)\n",
    "    print(\"Running prediction:\")\n",
    "    predicted_proba = model.predict_proba(to_predict_x)\n",
    "    predicted = predicted_proba[:, 1] > cutoff\n",
    "    print(f\"Predicted: {predicted.shape[0]}\")\n",
    "    fpr, tpr, _ = roc_curve(y_true=observed, y_score=predicted_proba[:, 1])\n",
    "    roc_auc = auc(fpr, tpr)\n",
    "    \n",
    "    fig, axes = plt.subplots(ncols=2)\n",
    "    \n",
    "    ax = axes[0]\n",
    "    ax.plot(fpr, tpr, label=f\"ROC curve (area = {roc_auc:.2f})\")\n",
    "    ax.plot([0, 1], [0, 1], \"k--\")\n",
    "    ax.set_xlabel(\"False Positive Rate\")\n",
    "    ax.set_ylabel(\"True Positive Rate\")\n",
    "    ax.set_aspect(\"equal\")\n",
    "    \n",
    "    ax = axes[1]\n",
    "    venn2(\n",
    "        subsets=(set(np.where(observed)[0]), set(np.where(predicted)[0])),\n",
    "        set_labels=(\"Observed\", \"Predicted\"),\n",
    "        ax=ax,\n",
    "    )\n",
    "    \n",
    "    fig.suptitle(f\"Drug node {drug}: AUC={roc_auc:.2f}\")\n",
    "    plt.show()\n",
    "    \n",
    "check_prediction(\"XOLAIR\", new_edges, graph)"
   ],
   "id": "6d0551ab7757d689",
   "outputs": [
    {
     "name": "stdout",
     "output_type": "stream",
     "text": [
      "The node XOLAIR has 215 new neighbors.\n",
      "Reactions len: 8674\n"
     ]
    },
    {
     "data": {
      "text/plain": [
       "Processing reaction nodes:   0%|          | 0/8674 [00:00<?, ?it/s]"
      ],
      "application/vnd.jupyter.widget-view+json": {
       "version_major": 2,
       "version_minor": 0,
       "model_id": "b416d4d0710c4ade8e8875ba0c8f5f80"
      }
     },
     "metadata": {},
     "output_type": "display_data"
    },
    {
     "name": "stdout",
     "output_type": "stream",
     "text": [
      "Running prediction:\n",
      "Predicted: 8674\n"
     ]
    },
    {
     "data": {
      "text/plain": [
       "<Figure size 640x480 with 2 Axes>"
      ],
      "image/png": "[encoded data removed]"
     },
     "metadata": {},
     "output_type": "display_data"
    }
   ],
   "execution_count": 73
  },
  {
   "metadata": {
    "ExecuteTime": {
     "end_time": "2024-10-02T14:53:46.357629Z",
     "start_time": "2024-10-02T14:39:42.064977Z"
    }
   },
   "cell_type": "code",
   "source": [
    "# new_edges = validation_graph[ (validation_graph[DRUG], validation_graph[REACTION]) not in graph.edges() ]\n",
    "\n",
    "# Extract edges from both graphs\n",
    "edges_in_graph = set(graph.edges())\n",
    "edges_in_validation_graph = set(validation_graph.edges())\n",
    "\n",
    "# Find new edges in validation_graph that are not in graph\n",
    "new_edges = edges_in_validation_graph - edges_in_graph\n",
    "\n",
    "# Convert the set of new edges to a DataFrame\n",
    "new_edges = pd.DataFrame(list(new_edges), columns=[DRUG, REACTION])\n",
    "\n",
    "\n",
    "def check_prediction(drug, newly_added_edges, graph_before, cutoff=0.5):\n",
    "    newly_added_edges_to_drug = newly_added_edges[newly_added_edges[DRUG] == drug]\n",
    "    n_added = newly_added_edges_to_drug.shape[0]\n",
    "    print(f\"The node {drug} has {n_added:,} new neighbors.\")\n",
    "    \n",
    "    if not n_added:\n",
    "        return\n",
    "    \n",
    "    to_predict_x = []\n",
    "    to_predict_y = []\n",
    "    \n",
    "    reaction_nodes = [node for node, data in graph_before.nodes(data=True) if data['type'] == REACTION]\n",
    "    print(f\"Reactions len: {len(reaction_nodes)}\")\n",
    "    for target in tqdm(reaction_nodes, desc=\"Processing reaction nodes\"):\n",
    "        if target == drug:\n",
    "            continue\n",
    "            \n",
    "        if graph_before.has_edge(target, drug):\n",
    "            continue\n",
    "        \n",
    "        u, v = (target, drug)\n",
    "        \n",
    "        jaccard_coefficient = nx.jaccard_coefficient(graph_before, [(u, v)])\n",
    "        adamic_adar_index = nx.adamic_adar_index(graph_before, [(u, v)])\n",
    "        preferential_attachment = nx.preferential_attachment(graph_before, [(u, v)])\n",
    "        common_neighbors = nx.common_neighbors(graph_before, u, v)\n",
    "        resource_allocation_index = nx.resource_allocation_index(graph_before, [(u, v)])\n",
    "        \n",
    "        x_other = pd.Series({\n",
    "            \"adamic_adar_index\": list(adamic_adar_index)[0][-1],\n",
    "            \"common_neighbors\": len(list(common_neighbors)),\n",
    "            \"jaccard_coefficient\": list(jaccard_coefficient)[0][-1],\n",
    "            \"preferential_attachment\": list(preferential_attachment)[0][-1],\n",
    "            \"resource_allocation_index\": list(resource_allocation_index)[0][-1],\n",
    "        })\n",
    "        \n",
    "        to_predict_x.append(x_other)\n",
    "        to_predict_y.append(\n",
    "            newly_added_edges[\n",
    "                (newly_added_edges[DRUG] == drug) & (newly_added_edges[REACTION] == target)\n",
    "            ].shape[0] > 0\n",
    "        )\n",
    "        # print(f\"Added edge: {u}, {v}\")\n",
    "    \n",
    "    to_predict_x = pd.DataFrame(to_predict_x)\n",
    "    observed = np.array(to_predict_y)\n",
    "    print(\"Running prediction:\")\n",
    "    predicted_proba = model.predict_proba(to_predict_x)\n",
    "    predicted = predicted_proba[:, 1] > cutoff\n",
    "    print(f\"Predicted: {predicted.shape[0]}\")\n",
    "    fpr, tpr, _ = roc_curve(y_true=observed, y_score=predicted_proba[:, 1])\n",
    "    roc_auc = auc(fpr, tpr)\n",
    "    \n",
    "    fig, axes = plt.subplots(ncols=2)\n",
    "    \n",
    "    ax = axes[0]\n",
    "    ax.plot(fpr, tpr, label=f\"ROC curve (area = {roc_auc:.2f})\")\n",
    "    ax.plot([0, 1], [0, 1], \"k--\")\n",
    "    ax.set_xlabel(\"False Positive Rate\")\n",
    "    ax.set_ylabel(\"True Positive Rate\")\n",
    "    ax.set_aspect(\"equal\")\n",
    "    \n",
    "    ax = axes[1]\n",
    "    venn2(\n",
    "        subsets=(set(np.where(observed)[0]), set(np.where(predicted)[0])),\n",
    "        set_labels=(\"Observed\", \"Predicted\"),\n",
    "        ax=ax,\n",
    "    )\n",
    "    \n",
    "    fig.suptitle(f\"Drug node {drug}: AUC={roc_auc:.2f}\")\n",
    "    plt.show()\n",
    "    \n",
    "check_prediction(\"XOLAIR\", new_edges, graph)"
   ],
   "id": "bde5abc05111bb59",
   "outputs": [
    {
     "name": "stdout",
     "output_type": "stream",
     "text": [
      "The node XOLAIR has 215 new neighbors.\n",
      "Reactions len: 8674\n"
     ]
    },
    {
     "data": {
      "text/plain": [
       "Processing reaction nodes:   0%|          | 0/8674 [00:00<?, ?it/s]"
      ],
      "application/vnd.jupyter.widget-view+json": {
       "version_major": 2,
       "version_minor": 0,
       "model_id": "05c2bdc26bee43b89fddd10309c732d3"
      }
     },
     "metadata": {},
     "output_type": "display_data"
    },
    {
     "name": "stdout",
     "output_type": "stream",
     "text": [
      "Running prediction:\n",
      "Predicted: 7900\n"
     ]
    },
    {
     "data": {
      "text/plain": [
       "<Figure size 640x480 with 2 Axes>"
      ],
      "image/png": "[encoded data removed]"
     },
     "metadata": {},
     "output_type": "display_data"
    }
   ],
   "execution_count": 74
  },
  {
   "metadata": {},
   "cell_type": "code",
   "outputs": [],
   "execution_count": null,
   "source": "",
   "id": "b270b2350ac2ce54"
  }
 ],
 "metadata": {
  "kernelspec": {
   "display_name": "Python 3",
   "language": "python",
   "name": "python3"
  },
  "language_info": {
   "codemirror_mode": {
    "name": "ipython",
    "version": 2
   },
   "file_extension": ".py",
   "mimetype": "text/x-python",
   "name": "python",
   "nbconvert_exporter": "python",
   "pygments_lexer": "ipython2",
   "version": "2.7.6"
  }
 },
 "nbformat": 4,
 "nbformat_minor": 5
}
