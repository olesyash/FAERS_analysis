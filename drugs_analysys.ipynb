{
 "cells": [
  {
   "metadata": {},
   "cell_type": "markdown",
   "source": "This is final project for the course \"Machine Learining in Graphs\"",
   "id": "486f23ac18854359"
  },
  {
   "cell_type": "code",
   "id": "initial_id",
   "metadata": {
    "collapsed": true,
    "ExecuteTime": {
     "end_time": "2024-10-27T11:07:55.693108Z",
     "start_time": "2024-10-27T11:07:55.682110Z"
    }
   },
   "source": [
    "import pandas as pd\n",
    "import networkx as nx\n",
    "from consts import *\n",
    "from build_graph import build_bi_partite_graph\n",
    "\n",
    "import matplotlib.pyplot as plt\n",
    "import numpy as np\n",
    "from catboost import CatBoostClassifier\n",
    "from matplotlib_venn import venn2\n",
    "from tqdm.auto import tqdm\n",
    "\n",
    "import data_utils\n",
    "import graph_utils\n",
    "from sklearn.model_selection import train_test_split\n",
    "from sklearn.metrics import roc_curve, roc_auc_score, auc"
   ],
   "outputs": [],
   "execution_count": 3
  },
  {
   "metadata": {
    "ExecuteTime": {
     "end_time": "2024-10-27T11:10:26.039983Z",
     "start_time": "2024-10-27T11:07:55.749108Z"
    }
   },
   "cell_type": "code",
   "source": [
    "train_data = pd.read_csv(\"2021.csv\")\n",
    "train_data = pd.concat([train_data, pd.read_csv(\"2022.csv\")])\n",
    "train_data = pd.concat([train_data, pd.read_csv(\"2023.csv\")])\n",
    "validation_data = pd.read_csv(\"2024.csv\")"
   ],
   "id": "a1d87e973483a171",
   "outputs": [],
   "execution_count": 4
  },
  {
   "metadata": {
    "ExecuteTime": {
     "end_time": "2024-10-27T11:10:26.132149Z",
     "start_time": "2024-10-27T11:10:26.074189Z"
    }
   },
   "cell_type": "code",
   "source": [
    "print(f\"Train data: {train_data.shape}\")\n",
    "print(f\"Validation data: {validation_data.shape}\")"
   ],
   "id": "c8801f8116a22833",
   "outputs": [
    {
     "name": "stdout",
     "output_type": "stream",
     "text": [
      "Train data: (187245813, 3)\n",
      "Validation data: (46788230, 3)\n"
     ]
    }
   ],
   "execution_count": 5
  },
  {
   "metadata": {
    "ExecuteTime": {
     "end_time": "2024-10-27T11:15:02.413963Z",
     "start_time": "2024-10-27T11:10:26.136160Z"
    }
   },
   "cell_type": "code",
   "source": [
    "graph = build_bi_partite_graph(train_data, DRUG, REACTION)\n",
    "print(graph)\n",
    "nx.write_graphml(graph, \"graph1.graphml\")\n",
    "\n",
    "validation_graph = build_bi_partite_graph(validation_data, DRUG, REACTION)\n",
    "print(validation_graph)"
   ],
   "id": "f01f9963b25839d5",
   "outputs": [
    {
     "name": "stdout",
     "output_type": "stream",
     "text": [
      "Graph with 222193 nodes and 8272779 edges\n",
      "Graph with 55018 nodes and 2601576 edges\n"
     ]
    }
   ],
   "execution_count": 6
  },
  {
   "metadata": {},
   "cell_type": "markdown",
   "source": "",
   "id": "574dce857897224f"
  },
  {
   "metadata": {
    "ExecuteTime": {
     "end_time": "2024-10-27T11:15:03.453082Z",
     "start_time": "2024-10-27T11:15:02.423965Z"
    }
   },
   "cell_type": "code",
   "source": "data_utils.plot_degree_distribiution(graph, \"Drugs\")",
   "id": "bdf753bd0f5aded0",
   "outputs": [
    {
     "data": {
      "text/plain": [
       "<Axes: xlabel='log(degree)', ylabel='log(Count)'>"
      ]
     },
     "execution_count": 7,
     "metadata": {},
     "output_type": "execute_result"
    },
    {
     "data": {
      "text/plain": [
       "<Figure size 640x480 with 1 Axes>"
      ],
      "image/png": "[encoded data removed]"
     },
     "metadata": {},
     "output_type": "display_data"
    }
   ],
   "execution_count": 7
  },
  {
   "metadata": {
    "ExecuteTime": {
     "end_time": "2024-10-27T11:42:25.221325Z",
     "start_time": "2024-10-27T11:15:03.456079Z"
    }
   },
   "cell_type": "code",
   "source": [
    "data = []\n",
    "# run on 3% of the nodes\n",
    "for _ in range (int(len(graph.nodes)*0.03)):\n",
    "    u = np.random.choice(graph.nodes)\n",
    "    v = np.random.choice(graph.nodes)\n",
    "    has_edge = graph.has_edge(u, v)\n",
    "    jaccard_coefficient = nx.jaccard_coefficient(graph, [(u, v)])\n",
    "    adamic_adar_index = nx.adamic_adar_index(graph, [(u, v)])\n",
    "    preferential_attachment = nx.preferential_attachment(graph, [(u, v)])\n",
    "    common_neighbors = nx.common_neighbors(graph, u, v)\n",
    "    resource_allocation_index = nx.resource_allocation_index(graph, [(u, v)])\n",
    "    data.append(\n",
    "        {\n",
    "            \"u\": u,\n",
    "            \"v\": v,\n",
    "            \"has_edge\": has_edge,\n",
    "            \"metric_name\": \"jaccard_coefficient\",\n",
    "            \"metric_value\": list(jaccard_coefficient)[0][-1],\n",
    "        }\n",
    "    )\n",
    "    data.append(\n",
    "        {\n",
    "            \"u\": u,\n",
    "            \"v\": v,\n",
    "            \"has_edge\": has_edge,\n",
    "            \"metric_name\": \"adamic_adar_index\",\n",
    "            \"metric_value\": list(adamic_adar_index)[0][-1],\n",
    "        }\n",
    "    )\n",
    "    data.append(\n",
    "        {\n",
    "            \"u\": u,\n",
    "            \"v\": v,\n",
    "            \"has_edge\": has_edge,\n",
    "            \"metric_name\": \"preferential_attachment\",\n",
    "            \"metric_value\": list(preferential_attachment)[0][-1],\n",
    "        }\n",
    "    )\n",
    "    data.append(\n",
    "        {\n",
    "            \"u\": u,\n",
    "            \"v\": v,\n",
    "            \"has_edge\": has_edge,\n",
    "            \"metric_name\": \"common_neighbors\",\n",
    "            \"metric_value\": len(list(common_neighbors)),\n",
    "        }\n",
    "    )\n",
    "    data.append(\n",
    "        {\n",
    "            \"u\": u,\n",
    "            \"v\": v,\n",
    "            \"has_edge\": has_edge,\n",
    "            \"metric_name\": \"resource_allocation_index\",\n",
    "            \"metric_value\": list(resource_allocation_index)[0][-1],\n",
    "        }\n",
    "    )\n",
    "\n",
    "df_metrics = pd.DataFrame(data)\n",
    "df_metrics"
   ],
   "id": "7645aeb72ac98d0d",
   "outputs": [
    {
     "data": {
      "text/plain": [
       "                                                       u  \\\n",
       "0      FLUTICIASONE ? SALMETEROL (ADVAIR) 100?50 MCG/...   \n",
       "1      FLUTICIASONE ? SALMETEROL (ADVAIR) 100?50 MCG/...   \n",
       "2      FLUTICIASONE ? SALMETEROL (ADVAIR) 100?50 MCG/...   \n",
       "3      FLUTICIASONE ? SALMETEROL (ADVAIR) 100?50 MCG/...   \n",
       "4      FLUTICIASONE ? SALMETEROL (ADVAIR) 100?50 MCG/...   \n",
       "...                                                  ...   \n",
       "33320                       KIDS VITAMINS, MULTIVITAMINS   \n",
       "33321                       KIDS VITAMINS, MULTIVITAMINS   \n",
       "33322                       KIDS VITAMINS, MULTIVITAMINS   \n",
       "33323                       KIDS VITAMINS, MULTIVITAMINS   \n",
       "33324                       KIDS VITAMINS, MULTIVITAMINS   \n",
       "\n",
       "                           v  has_edge                metric_name  \\\n",
       "0      EVEROLIMUS TABLETS CE     False        jaccard_coefficient   \n",
       "1      EVEROLIMUS TABLETS CE     False          adamic_adar_index   \n",
       "2      EVEROLIMUS TABLETS CE     False    preferential_attachment   \n",
       "3      EVEROLIMUS TABLETS CE     False           common_neighbors   \n",
       "4      EVEROLIMUS TABLETS CE     False  resource_allocation_index   \n",
       "...                      ...       ...                        ...   \n",
       "33320            THC AND CBD     False        jaccard_coefficient   \n",
       "33321            THC AND CBD     False          adamic_adar_index   \n",
       "33322            THC AND CBD     False    preferential_attachment   \n",
       "33323            THC AND CBD     False           common_neighbors   \n",
       "33324            THC AND CBD     False  resource_allocation_index   \n",
       "\n",
       "       metric_value  \n",
       "0               0.0  \n",
       "1               0.0  \n",
       "2             170.0  \n",
       "3               0.0  \n",
       "4               0.0  \n",
       "...             ...  \n",
       "33320           0.0  \n",
       "33321           0.0  \n",
       "33322           3.0  \n",
       "33323           0.0  \n",
       "33324           0.0  \n",
       "\n",
       "[33325 rows x 5 columns]"
      ],
      "text/html": [
       "<div>\n",
       "<style scoped>\n",
       "    .dataframe tbody tr th:only-of-type {\n",
       "        vertical-align: middle;\n",
       "    }\n",
       "\n",
       "    .dataframe tbody tr th {\n",
       "        vertical-align: top;\n",
       "    }\n",
       "\n",
       "    .dataframe thead th {\n",
       "        text-align: right;\n",
       "    }\n",
       "</style>\n",
       "<table border=\"1\" class=\"dataframe\">\n",
       "  <thead>\n",
       "    <tr style=\"text-align: right;\">\n",
       "      <th></th>\n",
       "      <th>u</th>\n",
       "      <th>v</th>\n",
       "      <th>has_edge</th>\n",
       "      <th>metric_name</th>\n",
       "      <th>metric_value</th>\n",
       "    </tr>\n",
       "  </thead>\n",
       "  <tbody>\n",
       "    <tr>\n",
       "      <th>0</th>\n",
       "      <td>FLUTICIASONE ? SALMETEROL (ADVAIR) 100?50 MCG/...</td>\n",
       "      <td>EVEROLIMUS TABLETS CE</td>\n",
       "      <td>False</td>\n",
       "      <td>jaccard_coefficient</td>\n",
       "      <td>0.0</td>\n",
       "    </tr>\n",
       "    <tr>\n",
       "      <th>1</th>\n",
       "      <td>FLUTICIASONE ? SALMETEROL (ADVAIR) 100?50 MCG/...</td>\n",
       "      <td>EVEROLIMUS TABLETS CE</td>\n",
       "      <td>False</td>\n",
       "      <td>adamic_adar_index</td>\n",
       "      <td>0.0</td>\n",
       "    </tr>\n",
       "    <tr>\n",
       "      <th>2</th>\n",
       "      <td>FLUTICIASONE ? SALMETEROL (ADVAIR) 100?50 MCG/...</td>\n",
       "      <td>EVEROLIMUS TABLETS CE</td>\n",
       "      <td>False</td>\n",
       "      <td>preferential_attachment</td>\n",
       "      <td>170.0</td>\n",
       "    </tr>\n",
       "    <tr>\n",
       "      <th>3</th>\n",
       "      <td>FLUTICIASONE ? SALMETEROL (ADVAIR) 100?50 MCG/...</td>\n",
       "      <td>EVEROLIMUS TABLETS CE</td>\n",
       "      <td>False</td>\n",
       "      <td>common_neighbors</td>\n",
       "      <td>0.0</td>\n",
       "    </tr>\n",
       "    <tr>\n",
       "      <th>4</th>\n",
       "      <td>FLUTICIASONE ? SALMETEROL (ADVAIR) 100?50 MCG/...</td>\n",
       "      <td>EVEROLIMUS TABLETS CE</td>\n",
       "      <td>False</td>\n",
       "      <td>resource_allocation_index</td>\n",
       "      <td>0.0</td>\n",
       "    </tr>\n",
       "    <tr>\n",
       "      <th>...</th>\n",
       "      <td>...</td>\n",
       "      <td>...</td>\n",
       "      <td>...</td>\n",
       "      <td>...</td>\n",
       "      <td>...</td>\n",
       "    </tr>\n",
       "    <tr>\n",
       "      <th>33320</th>\n",
       "      <td>KIDS VITAMINS, MULTIVITAMINS</td>\n",
       "      <td>THC AND CBD</td>\n",
       "      <td>False</td>\n",
       "      <td>jaccard_coefficient</td>\n",
       "      <td>0.0</td>\n",
       "    </tr>\n",
       "    <tr>\n",
       "      <th>33321</th>\n",
       "      <td>KIDS VITAMINS, MULTIVITAMINS</td>\n",
       "      <td>THC AND CBD</td>\n",
       "      <td>False</td>\n",
       "      <td>adamic_adar_index</td>\n",
       "      <td>0.0</td>\n",
       "    </tr>\n",
       "    <tr>\n",
       "      <th>33322</th>\n",
       "      <td>KIDS VITAMINS, MULTIVITAMINS</td>\n",
       "      <td>THC AND CBD</td>\n",
       "      <td>False</td>\n",
       "      <td>preferential_attachment</td>\n",
       "      <td>3.0</td>\n",
       "    </tr>\n",
       "    <tr>\n",
       "      <th>33323</th>\n",
       "      <td>KIDS VITAMINS, MULTIVITAMINS</td>\n",
       "      <td>THC AND CBD</td>\n",
       "      <td>False</td>\n",
       "      <td>common_neighbors</td>\n",
       "      <td>0.0</td>\n",
       "    </tr>\n",
       "    <tr>\n",
       "      <th>33324</th>\n",
       "      <td>KIDS VITAMINS, MULTIVITAMINS</td>\n",
       "      <td>THC AND CBD</td>\n",
       "      <td>False</td>\n",
       "      <td>resource_allocation_index</td>\n",
       "      <td>0.0</td>\n",
       "    </tr>\n",
       "  </tbody>\n",
       "</table>\n",
       "<p>33325 rows × 5 columns</p>\n",
       "</div>"
      ]
     },
     "execution_count": 8,
     "metadata": {},
     "output_type": "execute_result"
    }
   ],
   "execution_count": 8
  },
  {
   "metadata": {
    "ExecuteTime": {
     "end_time": "2024-10-27T11:42:25.363785Z",
     "start_time": "2024-10-27T11:42:25.223073Z"
    }
   },
   "cell_type": "code",
   "source": [
    "df_x = df_metrics.pivot_table(\n",
    "    index=[\"u\", \"v\"], columns=\"metric_name\", values=\"metric_value\"\n",
    ").reset_index()\n",
    "df_x"
   ],
   "id": "2997aeb2f5ade24d",
   "outputs": [
    {
     "data": {
      "text/plain": [
       "metric_name                                              u  \\\n",
       "0                                        0.4 mg Tamsulosin   \n",
       "1                                        1 ALPHA OH VIT D2   \n",
       "2                              1 x daily Amlodipipine 5 mg   \n",
       "3            10 mg Montelukast sodium (Montelukast sodium)   \n",
       "4                                            10 mg Provera   \n",
       "...                                                    ...   \n",
       "6660                                    woman^s once a day   \n",
       "6661                                     women^s probiotic   \n",
       "6662                                     yaz birth control   \n",
       "6663                                           zetia 10 mg   \n",
       "6664                                       |isinopri| 5 mg   \n",
       "\n",
       "metric_name                                       v  adamic_adar_index  \\\n",
       "0                  Prenatal vitamins dha prescribed                0.0   \n",
       "1            OXYCODONE (OXYCODONE HCL 40MG TAB, SA)                0.0   \n",
       "2                   EPAROSE [EICOSAPENTAENOIC ACID]                0.0   \n",
       "3                                 GINGER ROOT 550MG                0.0   \n",
       "4                                        HYDROCODIN                0.0   \n",
       "...                                             ...                ...   \n",
       "6660                                          TENOX                0.0   \n",
       "6661                                     LANOXIN PG                0.0   \n",
       "6662                                   RA VITAMIN C                0.0   \n",
       "6663                              CLOPIXOL ACUPHASE                0.0   \n",
       "6664                           PREDNISONE DOSE PACK                0.0   \n",
       "\n",
       "metric_name  common_neighbors  jaccard_coefficient  preferential_attachment  \\\n",
       "0                         0.0                  0.0                     36.0   \n",
       "1                         0.0                  0.0                      4.0   \n",
       "2                         0.0                  0.0                     40.0   \n",
       "3                         0.0                  0.0                      6.0   \n",
       "4                         0.0                  0.0                     14.0   \n",
       "...                       ...                  ...                      ...   \n",
       "6660                      0.0                  0.0                    310.0   \n",
       "6661                      0.0                  0.0                     12.0   \n",
       "6662                      0.0                  0.0                      8.0   \n",
       "6663                      0.0                  0.0                     46.0   \n",
       "6664                      0.0                  0.0                      2.0   \n",
       "\n",
       "metric_name  resource_allocation_index  \n",
       "0                                  0.0  \n",
       "1                                  0.0  \n",
       "2                                  0.0  \n",
       "3                                  0.0  \n",
       "4                                  0.0  \n",
       "...                                ...  \n",
       "6660                               0.0  \n",
       "6661                               0.0  \n",
       "6662                               0.0  \n",
       "6663                               0.0  \n",
       "6664                               0.0  \n",
       "\n",
       "[6665 rows x 7 columns]"
      ],
      "text/html": [
       "<div>\n",
       "<style scoped>\n",
       "    .dataframe tbody tr th:only-of-type {\n",
       "        vertical-align: middle;\n",
       "    }\n",
       "\n",
       "    .dataframe tbody tr th {\n",
       "        vertical-align: top;\n",
       "    }\n",
       "\n",
       "    .dataframe thead th {\n",
       "        text-align: right;\n",
       "    }\n",
       "</style>\n",
       "<table border=\"1\" class=\"dataframe\">\n",
       "  <thead>\n",
       "    <tr style=\"text-align: right;\">\n",
       "      <th>metric_name</th>\n",
       "      <th>u</th>\n",
       "      <th>v</th>\n",
       "      <th>adamic_adar_index</th>\n",
       "      <th>common_neighbors</th>\n",
       "      <th>jaccard_coefficient</th>\n",
       "      <th>preferential_attachment</th>\n",
       "      <th>resource_allocation_index</th>\n",
       "    </tr>\n",
       "  </thead>\n",
       "  <tbody>\n",
       "    <tr>\n",
       "      <th>0</th>\n",
       "      <td>0.4 mg Tamsulosin</td>\n",
       "      <td>Prenatal vitamins dha prescribed</td>\n",
       "      <td>0.0</td>\n",
       "      <td>0.0</td>\n",
       "      <td>0.0</td>\n",
       "      <td>36.0</td>\n",
       "      <td>0.0</td>\n",
       "    </tr>\n",
       "    <tr>\n",
       "      <th>1</th>\n",
       "      <td>1 ALPHA OH VIT D2</td>\n",
       "      <td>OXYCODONE (OXYCODONE HCL 40MG TAB, SA)</td>\n",
       "      <td>0.0</td>\n",
       "      <td>0.0</td>\n",
       "      <td>0.0</td>\n",
       "      <td>4.0</td>\n",
       "      <td>0.0</td>\n",
       "    </tr>\n",
       "    <tr>\n",
       "      <th>2</th>\n",
       "      <td>1 x daily Amlodipipine 5 mg</td>\n",
       "      <td>EPAROSE [EICOSAPENTAENOIC ACID]</td>\n",
       "      <td>0.0</td>\n",
       "      <td>0.0</td>\n",
       "      <td>0.0</td>\n",
       "      <td>40.0</td>\n",
       "      <td>0.0</td>\n",
       "    </tr>\n",
       "    <tr>\n",
       "      <th>3</th>\n",
       "      <td>10 mg Montelukast sodium (Montelukast sodium)</td>\n",
       "      <td>GINGER ROOT 550MG</td>\n",
       "      <td>0.0</td>\n",
       "      <td>0.0</td>\n",
       "      <td>0.0</td>\n",
       "      <td>6.0</td>\n",
       "      <td>0.0</td>\n",
       "    </tr>\n",
       "    <tr>\n",
       "      <th>4</th>\n",
       "      <td>10 mg Provera</td>\n",
       "      <td>HYDROCODIN</td>\n",
       "      <td>0.0</td>\n",
       "      <td>0.0</td>\n",
       "      <td>0.0</td>\n",
       "      <td>14.0</td>\n",
       "      <td>0.0</td>\n",
       "    </tr>\n",
       "    <tr>\n",
       "      <th>...</th>\n",
       "      <td>...</td>\n",
       "      <td>...</td>\n",
       "      <td>...</td>\n",
       "      <td>...</td>\n",
       "      <td>...</td>\n",
       "      <td>...</td>\n",
       "      <td>...</td>\n",
       "    </tr>\n",
       "    <tr>\n",
       "      <th>6660</th>\n",
       "      <td>woman^s once a day</td>\n",
       "      <td>TENOX</td>\n",
       "      <td>0.0</td>\n",
       "      <td>0.0</td>\n",
       "      <td>0.0</td>\n",
       "      <td>310.0</td>\n",
       "      <td>0.0</td>\n",
       "    </tr>\n",
       "    <tr>\n",
       "      <th>6661</th>\n",
       "      <td>women^s probiotic</td>\n",
       "      <td>LANOXIN PG</td>\n",
       "      <td>0.0</td>\n",
       "      <td>0.0</td>\n",
       "      <td>0.0</td>\n",
       "      <td>12.0</td>\n",
       "      <td>0.0</td>\n",
       "    </tr>\n",
       "    <tr>\n",
       "      <th>6662</th>\n",
       "      <td>yaz birth control</td>\n",
       "      <td>RA VITAMIN C</td>\n",
       "      <td>0.0</td>\n",
       "      <td>0.0</td>\n",
       "      <td>0.0</td>\n",
       "      <td>8.0</td>\n",
       "      <td>0.0</td>\n",
       "    </tr>\n",
       "    <tr>\n",
       "      <th>6663</th>\n",
       "      <td>zetia 10 mg</td>\n",
       "      <td>CLOPIXOL ACUPHASE</td>\n",
       "      <td>0.0</td>\n",
       "      <td>0.0</td>\n",
       "      <td>0.0</td>\n",
       "      <td>46.0</td>\n",
       "      <td>0.0</td>\n",
       "    </tr>\n",
       "    <tr>\n",
       "      <th>6664</th>\n",
       "      <td>|isinopri| 5 mg</td>\n",
       "      <td>PREDNISONE DOSE PACK</td>\n",
       "      <td>0.0</td>\n",
       "      <td>0.0</td>\n",
       "      <td>0.0</td>\n",
       "      <td>2.0</td>\n",
       "      <td>0.0</td>\n",
       "    </tr>\n",
       "  </tbody>\n",
       "</table>\n",
       "<p>6665 rows × 7 columns</p>\n",
       "</div>"
      ]
     },
     "execution_count": 9,
     "metadata": {},
     "output_type": "execute_result"
    }
   ],
   "execution_count": 9
  },
  {
   "metadata": {
    "ExecuteTime": {
     "end_time": "2024-10-27T11:42:25.870800Z",
     "start_time": "2024-10-27T11:42:25.365757Z"
    }
   },
   "cell_type": "code",
   "source": [
    "\n",
    "\n",
    "X = df_x.drop(columns=[\"u\", \"v\"])\n",
    "y = np.array(\n",
    "    [\n",
    "        graph.has_edge(row.u, row.v)\n",
    "        for _, row in df_x.iterrows()\n",
    "    ]\n",
    ")\n",
    "weight = np.array([1 if has_edge else 0.05 for has_edge in y])\n",
    "y"
   ],
   "id": "7f3308049da693a7",
   "outputs": [
    {
     "data": {
      "text/plain": [
       "array([False, False, False, ..., False, False, False])"
      ]
     },
     "execution_count": 10,
     "metadata": {},
     "output_type": "execute_result"
    }
   ],
   "execution_count": 10
  },
  {
   "metadata": {
    "ExecuteTime": {
     "end_time": "2024-10-27T11:42:25.902758Z",
     "start_time": "2024-10-27T11:42:25.872772Z"
    }
   },
   "cell_type": "code",
   "source": [
    "X_train, X_test, y_train, y_test, weight_train, weight_test = train_test_split(\n",
    "    X, y, weight, test_size=0.2, random_state=42\n",
    ")\n",
    "# Check for data leakage\n",
    "print(\"Training set size:\", X_train.shape)\n",
    "print(\"Test set size:\", X_test.shape)\n",
    "\n",
    "# Inspect the first few rows of the training data\n",
    "print(X_train.head())\n",
    "print(y_train[:5])\n"
   ],
   "id": "6a63f25e37fab9e",
   "outputs": [
    {
     "name": "stdout",
     "output_type": "stream",
     "text": [
      "Training set size: (5332, 5)\n",
      "Test set size: (1333, 5)\n",
      "metric_name  adamic_adar_index  common_neighbors  jaccard_coefficient  \\\n",
      "380                   0.000000               0.0             0.000000   \n",
      "5784                  0.105761               1.0             0.058824   \n",
      "4590                  0.000000               0.0             0.000000   \n",
      "121                   0.000000               0.0             0.000000   \n",
      "2886                  0.000000               0.0             0.000000   \n",
      "\n",
      "metric_name  preferential_attachment  resource_allocation_index  \n",
      "380                            115.0                   0.000000  \n",
      "5784                            77.0                   0.000078  \n",
      "4590                            40.0                   0.000000  \n",
      "121                              2.0                   0.000000  \n",
      "2886                            12.0                   0.000000  \n",
      "[False False False False False]\n"
     ]
    }
   ],
   "execution_count": 11
  },
  {
   "metadata": {
    "ExecuteTime": {
     "end_time": "2024-10-27T11:42:38.619792Z",
     "start_time": "2024-10-27T11:42:25.904757Z"
    }
   },
   "cell_type": "code",
   "source": [
    "%matplotlib inline\n",
    "model = CatBoostClassifier(\n",
    "    n_estimators=500,\n",
    "    learning_rate=0.001,\n",
    "    depth=12,\n",
    "    eval_metric=\"AUC\",\n",
    "    loss_function=\"Logloss\",\n",
    "    l2_leaf_reg=4,\n",
    "    verbose=False,\n",
    ")\n",
    "model.fit(\n",
    "    X_train,\n",
    "    y_train,\n",
    "    sample_weight=weight_train,\n",
    "    eval_set=(X_test, y_test),\n",
    "    early_stopping_rounds=150,\n",
    "    plot=True,\n",
    "    verbose=True,\n",
    ")"
   ],
   "id": "40414d1392ccd074",
   "outputs": [
    {
     "data": {
      "text/plain": [
       "MetricVisualizer(layout=Layout(align_self='stretch', height='500px'))"
      ],
      "application/vnd.jupyter.widget-view+json": {
       "version_major": 2,
       "version_minor": 0,
       "model_id": "af17678258b0460ab5953d042bec253f"
      }
     },
     "metadata": {},
     "output_type": "display_data"
    },
    {
     "name": "stdout",
     "output_type": "stream",
     "text": [
      "0:\ttest: 0.0000000\tbest: 0.0000000 (0)\ttotal: 268ms\tremaining: 2m 13s\n",
      "1:\ttest: 0.0000000\tbest: 0.0000000 (0)\ttotal: 353ms\tremaining: 1m 27s\n",
      "2:\ttest: 0.0000000\tbest: 0.0000000 (0)\ttotal: 451ms\tremaining: 1m 14s\n",
      "3:\ttest: 0.0000000\tbest: 0.0000000 (0)\ttotal: 535ms\tremaining: 1m 6s\n",
      "4:\ttest: 0.0000000\tbest: 0.0000000 (0)\ttotal: 549ms\tremaining: 54.4s\n",
      "5:\ttest: 0.0000000\tbest: 0.0000000 (0)\ttotal: 632ms\tremaining: 52.1s\n",
      "6:\ttest: 0.0000000\tbest: 0.0000000 (0)\ttotal: 714ms\tremaining: 50.3s\n",
      "7:\ttest: 0.0000000\tbest: 0.0000000 (0)\ttotal: 804ms\tremaining: 49.4s\n",
      "8:\ttest: 0.0000000\tbest: 0.0000000 (0)\ttotal: 816ms\tremaining: 44.5s\n",
      "9:\ttest: 0.0000000\tbest: 0.0000000 (0)\ttotal: 900ms\tremaining: 44.1s\n",
      "10:\ttest: 0.0000000\tbest: 0.0000000 (0)\ttotal: 986ms\tremaining: 43.8s\n",
      "11:\ttest: 0.0000000\tbest: 0.0000000 (0)\ttotal: 1.07s\tremaining: 43.5s\n",
      "12:\ttest: 0.0000000\tbest: 0.0000000 (0)\ttotal: 1.16s\tremaining: 43.3s\n",
      "13:\ttest: 0.0000000\tbest: 0.0000000 (0)\ttotal: 1.24s\tremaining: 43.2s\n",
      "14:\ttest: 0.0000000\tbest: 0.0000000 (0)\ttotal: 1.32s\tremaining: 42.7s\n",
      "15:\ttest: 0.0000000\tbest: 0.0000000 (0)\ttotal: 1.4s\tremaining: 42.2s\n",
      "16:\ttest: 0.0000000\tbest: 0.0000000 (0)\ttotal: 1.47s\tremaining: 41.9s\n",
      "17:\ttest: 0.0000000\tbest: 0.0000000 (0)\ttotal: 1.55s\tremaining: 41.5s\n",
      "18:\ttest: 0.0000000\tbest: 0.0000000 (0)\ttotal: 1.63s\tremaining: 41.1s\n",
      "19:\ttest: 0.0000000\tbest: 0.0000000 (0)\ttotal: 1.7s\tremaining: 40.8s\n",
      "20:\ttest: 0.0000000\tbest: 0.0000000 (0)\ttotal: 1.79s\tremaining: 40.7s\n",
      "21:\ttest: 0.0000000\tbest: 0.0000000 (0)\ttotal: 1.88s\tremaining: 40.9s\n",
      "22:\ttest: 0.0000000\tbest: 0.0000000 (0)\ttotal: 2s\tremaining: 41.5s\n",
      "23:\ttest: 0.0000000\tbest: 0.0000000 (0)\ttotal: 2.1s\tremaining: 41.7s\n",
      "24:\ttest: 0.0000000\tbest: 0.0000000 (0)\ttotal: 2.19s\tremaining: 41.7s\n",
      "25:\ttest: 0.0000000\tbest: 0.0000000 (0)\ttotal: 2.3s\tremaining: 41.9s\n",
      "26:\ttest: 0.0000000\tbest: 0.0000000 (0)\ttotal: 2.41s\tremaining: 42.2s\n",
      "27:\ttest: 0.0000000\tbest: 0.0000000 (0)\ttotal: 2.52s\tremaining: 42.5s\n",
      "28:\ttest: 0.0000000\tbest: 0.0000000 (0)\ttotal: 2.63s\tremaining: 42.7s\n",
      "29:\ttest: 0.0000000\tbest: 0.0000000 (0)\ttotal: 2.72s\tremaining: 42.6s\n",
      "30:\ttest: 0.0000000\tbest: 0.0000000 (0)\ttotal: 2.85s\tremaining: 43.1s\n",
      "31:\ttest: 0.0000000\tbest: 0.0000000 (0)\ttotal: 2.94s\tremaining: 42.9s\n",
      "32:\ttest: 0.0000000\tbest: 0.0000000 (0)\ttotal: 3.03s\tremaining: 42.9s\n",
      "33:\ttest: 0.0000000\tbest: 0.0000000 (0)\ttotal: 3.16s\tremaining: 43.3s\n",
      "34:\ttest: 0.0000000\tbest: 0.0000000 (0)\ttotal: 3.24s\tremaining: 43s\n",
      "35:\ttest: 0.0000000\tbest: 0.0000000 (0)\ttotal: 3.32s\tremaining: 42.8s\n",
      "36:\ttest: 0.0000000\tbest: 0.0000000 (0)\ttotal: 3.41s\tremaining: 42.7s\n",
      "37:\ttest: 0.0000000\tbest: 0.0000000 (0)\ttotal: 3.5s\tremaining: 42.5s\n",
      "38:\ttest: 0.0000000\tbest: 0.0000000 (0)\ttotal: 3.58s\tremaining: 42.3s\n",
      "39:\ttest: 0.0000000\tbest: 0.0000000 (0)\ttotal: 3.65s\tremaining: 42s\n",
      "40:\ttest: 0.0000000\tbest: 0.0000000 (0)\ttotal: 3.74s\tremaining: 41.9s\n",
      "41:\ttest: 0.0000000\tbest: 0.0000000 (0)\ttotal: 3.86s\tremaining: 42.1s\n",
      "42:\ttest: 0.0000000\tbest: 0.0000000 (0)\ttotal: 3.87s\tremaining: 41.2s\n",
      "43:\ttest: 0.0000000\tbest: 0.0000000 (0)\ttotal: 3.98s\tremaining: 41.3s\n",
      "44:\ttest: 0.0000000\tbest: 0.0000000 (0)\ttotal: 4.11s\tremaining: 41.6s\n",
      "45:\ttest: 0.0000000\tbest: 0.0000000 (0)\ttotal: 4.2s\tremaining: 41.5s\n",
      "46:\ttest: 0.0000000\tbest: 0.0000000 (0)\ttotal: 4.29s\tremaining: 41.4s\n",
      "47:\ttest: 0.0000000\tbest: 0.0000000 (0)\ttotal: 4.38s\tremaining: 41.2s\n",
      "48:\ttest: 0.0000000\tbest: 0.0000000 (0)\ttotal: 4.46s\tremaining: 41.1s\n",
      "49:\ttest: 0.0000000\tbest: 0.0000000 (0)\ttotal: 4.55s\tremaining: 41s\n",
      "50:\ttest: 0.0000000\tbest: 0.0000000 (0)\ttotal: 4.64s\tremaining: 40.9s\n",
      "51:\ttest: 0.0000000\tbest: 0.0000000 (0)\ttotal: 4.73s\tremaining: 40.7s\n",
      "52:\ttest: 0.0000000\tbest: 0.0000000 (0)\ttotal: 4.81s\tremaining: 40.5s\n",
      "53:\ttest: 0.0000000\tbest: 0.0000000 (0)\ttotal: 4.89s\tremaining: 40.4s\n",
      "54:\ttest: 0.0000000\tbest: 0.0000000 (0)\ttotal: 4.97s\tremaining: 40.2s\n",
      "55:\ttest: 0.0000000\tbest: 0.0000000 (0)\ttotal: 5.05s\tremaining: 40.1s\n",
      "56:\ttest: 0.0000000\tbest: 0.0000000 (0)\ttotal: 5.13s\tremaining: 39.9s\n",
      "57:\ttest: 0.0000000\tbest: 0.0000000 (0)\ttotal: 5.21s\tremaining: 39.7s\n",
      "58:\ttest: 0.0000000\tbest: 0.0000000 (0)\ttotal: 5.28s\tremaining: 39.5s\n",
      "59:\ttest: 0.0000000\tbest: 0.0000000 (0)\ttotal: 5.36s\tremaining: 39.3s\n",
      "60:\ttest: 0.0000000\tbest: 0.0000000 (0)\ttotal: 5.43s\tremaining: 39.1s\n",
      "61:\ttest: 0.0000000\tbest: 0.0000000 (0)\ttotal: 5.5s\tremaining: 38.9s\n",
      "62:\ttest: 0.0000000\tbest: 0.0000000 (0)\ttotal: 5.57s\tremaining: 38.7s\n",
      "63:\ttest: 0.0000000\tbest: 0.0000000 (0)\ttotal: 5.65s\tremaining: 38.5s\n",
      "64:\ttest: 0.0000000\tbest: 0.0000000 (0)\ttotal: 5.69s\tremaining: 38.1s\n",
      "65:\ttest: 0.0000000\tbest: 0.0000000 (0)\ttotal: 5.73s\tremaining: 37.7s\n",
      "66:\ttest: 0.0000000\tbest: 0.0000000 (0)\ttotal: 5.86s\tremaining: 37.9s\n",
      "67:\ttest: 0.0000000\tbest: 0.0000000 (0)\ttotal: 5.99s\tremaining: 38s\n",
      "68:\ttest: 0.0000000\tbest: 0.0000000 (0)\ttotal: 6.07s\tremaining: 37.9s\n",
      "69:\ttest: 0.0000000\tbest: 0.0000000 (0)\ttotal: 6.16s\tremaining: 37.8s\n",
      "70:\ttest: 0.0000000\tbest: 0.0000000 (0)\ttotal: 6.23s\tremaining: 37.6s\n",
      "71:\ttest: 0.0000000\tbest: 0.0000000 (0)\ttotal: 6.31s\tremaining: 37.5s\n",
      "72:\ttest: 0.0000000\tbest: 0.0000000 (0)\ttotal: 6.39s\tremaining: 37.4s\n",
      "73:\ttest: 0.0000000\tbest: 0.0000000 (0)\ttotal: 6.47s\tremaining: 37.2s\n",
      "74:\ttest: 0.0000000\tbest: 0.0000000 (0)\ttotal: 6.54s\tremaining: 37.1s\n",
      "75:\ttest: 0.0000000\tbest: 0.0000000 (0)\ttotal: 6.57s\tremaining: 36.7s\n",
      "76:\ttest: 0.0000000\tbest: 0.0000000 (0)\ttotal: 6.64s\tremaining: 36.5s\n",
      "77:\ttest: 0.0000000\tbest: 0.0000000 (0)\ttotal: 6.71s\tremaining: 36.3s\n",
      "78:\ttest: 0.0000000\tbest: 0.0000000 (0)\ttotal: 6.79s\tremaining: 36.2s\n",
      "79:\ttest: 0.0000000\tbest: 0.0000000 (0)\ttotal: 6.87s\tremaining: 36.1s\n",
      "80:\ttest: 0.0000000\tbest: 0.0000000 (0)\ttotal: 6.96s\tremaining: 36s\n",
      "81:\ttest: 0.0000000\tbest: 0.0000000 (0)\ttotal: 7s\tremaining: 35.7s\n",
      "82:\ttest: 0.0000000\tbest: 0.0000000 (0)\ttotal: 7.08s\tremaining: 35.6s\n",
      "83:\ttest: 0.0000000\tbest: 0.0000000 (0)\ttotal: 7.15s\tremaining: 35.4s\n",
      "84:\ttest: 0.0000000\tbest: 0.0000000 (0)\ttotal: 7.23s\tremaining: 35.3s\n",
      "85:\ttest: 0.0000000\tbest: 0.0000000 (0)\ttotal: 7.25s\tremaining: 34.9s\n",
      "86:\ttest: 0.0000000\tbest: 0.0000000 (0)\ttotal: 7.33s\tremaining: 34.8s\n",
      "87:\ttest: 0.0000000\tbest: 0.0000000 (0)\ttotal: 7.41s\tremaining: 34.7s\n",
      "88:\ttest: 0.0000000\tbest: 0.0000000 (0)\ttotal: 7.48s\tremaining: 34.5s\n",
      "89:\ttest: 0.0000000\tbest: 0.0000000 (0)\ttotal: 7.56s\tremaining: 34.4s\n",
      "90:\ttest: 0.0000000\tbest: 0.0000000 (0)\ttotal: 7.63s\tremaining: 34.3s\n",
      "91:\ttest: 0.0000000\tbest: 0.0000000 (0)\ttotal: 7.7s\tremaining: 34.2s\n",
      "92:\ttest: 0.0000000\tbest: 0.0000000 (0)\ttotal: 7.78s\tremaining: 34s\n",
      "93:\ttest: 0.0000000\tbest: 0.0000000 (0)\ttotal: 7.85s\tremaining: 33.9s\n",
      "94:\ttest: 0.0000000\tbest: 0.0000000 (0)\ttotal: 7.86s\tremaining: 33.5s\n",
      "95:\ttest: 0.0000000\tbest: 0.0000000 (0)\ttotal: 7.94s\tremaining: 33.4s\n",
      "96:\ttest: 0.0000000\tbest: 0.0000000 (0)\ttotal: 8.02s\tremaining: 33.3s\n",
      "97:\ttest: 0.0000000\tbest: 0.0000000 (0)\ttotal: 8.09s\tremaining: 33.2s\n",
      "98:\ttest: 0.0000000\tbest: 0.0000000 (0)\ttotal: 8.17s\tremaining: 33.1s\n",
      "99:\ttest: 0.0000000\tbest: 0.0000000 (0)\ttotal: 8.26s\tremaining: 33s\n",
      "100:\ttest: 0.0000000\tbest: 0.0000000 (0)\ttotal: 8.33s\tremaining: 32.9s\n",
      "101:\ttest: 0.0000000\tbest: 0.0000000 (0)\ttotal: 8.43s\tremaining: 32.9s\n",
      "102:\ttest: 0.0000000\tbest: 0.0000000 (0)\ttotal: 8.51s\tremaining: 32.8s\n",
      "103:\ttest: 0.0000000\tbest: 0.0000000 (0)\ttotal: 8.58s\tremaining: 32.7s\n",
      "104:\ttest: 0.0000000\tbest: 0.0000000 (0)\ttotal: 8.66s\tremaining: 32.6s\n",
      "105:\ttest: 0.0000000\tbest: 0.0000000 (0)\ttotal: 8.73s\tremaining: 32.5s\n",
      "106:\ttest: 0.0000000\tbest: 0.0000000 (0)\ttotal: 8.81s\tremaining: 32.4s\n",
      "107:\ttest: 0.0000000\tbest: 0.0000000 (0)\ttotal: 8.89s\tremaining: 32.3s\n",
      "108:\ttest: 0.0000000\tbest: 0.0000000 (0)\ttotal: 8.98s\tremaining: 32.2s\n",
      "109:\ttest: 0.0000000\tbest: 0.0000000 (0)\ttotal: 9.06s\tremaining: 32.1s\n",
      "110:\ttest: 0.0000000\tbest: 0.0000000 (0)\ttotal: 9.09s\tremaining: 31.8s\n",
      "111:\ttest: 0.0000000\tbest: 0.0000000 (0)\ttotal: 9.18s\tremaining: 31.8s\n",
      "112:\ttest: 0.0000000\tbest: 0.0000000 (0)\ttotal: 9.26s\tremaining: 31.7s\n",
      "113:\ttest: 0.0000000\tbest: 0.0000000 (0)\ttotal: 9.33s\tremaining: 31.6s\n",
      "114:\ttest: 0.0000000\tbest: 0.0000000 (0)\ttotal: 9.36s\tremaining: 31.3s\n",
      "115:\ttest: 0.0000000\tbest: 0.0000000 (0)\ttotal: 9.44s\tremaining: 31.3s\n",
      "116:\ttest: 0.0000000\tbest: 0.0000000 (0)\ttotal: 9.52s\tremaining: 31.2s\n",
      "117:\ttest: 0.0000000\tbest: 0.0000000 (0)\ttotal: 9.6s\tremaining: 31.1s\n",
      "118:\ttest: 0.0000000\tbest: 0.0000000 (0)\ttotal: 9.67s\tremaining: 31s\n",
      "119:\ttest: 0.0000000\tbest: 0.0000000 (0)\ttotal: 9.75s\tremaining: 30.9s\n",
      "120:\ttest: 0.0000000\tbest: 0.0000000 (0)\ttotal: 9.82s\tremaining: 30.8s\n",
      "121:\ttest: 0.0000000\tbest: 0.0000000 (0)\ttotal: 9.9s\tremaining: 30.7s\n",
      "122:\ttest: 0.0000000\tbest: 0.0000000 (0)\ttotal: 9.98s\tremaining: 30.6s\n",
      "123:\ttest: 0.0000000\tbest: 0.0000000 (0)\ttotal: 10.1s\tremaining: 30.5s\n",
      "124:\ttest: 0.0000000\tbest: 0.0000000 (0)\ttotal: 10.1s\tremaining: 30.4s\n",
      "125:\ttest: 0.0000000\tbest: 0.0000000 (0)\ttotal: 10.2s\tremaining: 30.3s\n",
      "126:\ttest: 0.0000000\tbest: 0.0000000 (0)\ttotal: 10.3s\tremaining: 30.2s\n",
      "127:\ttest: 0.0000000\tbest: 0.0000000 (0)\ttotal: 10.3s\tremaining: 29.9s\n",
      "128:\ttest: 0.0000000\tbest: 0.0000000 (0)\ttotal: 10.4s\tremaining: 29.8s\n",
      "129:\ttest: 0.0000000\tbest: 0.0000000 (0)\ttotal: 10.5s\tremaining: 29.8s\n",
      "130:\ttest: 0.0000000\tbest: 0.0000000 (0)\ttotal: 10.5s\tremaining: 29.7s\n",
      "131:\ttest: 0.0000000\tbest: 0.0000000 (0)\ttotal: 10.6s\tremaining: 29.6s\n",
      "132:\ttest: 0.0000000\tbest: 0.0000000 (0)\ttotal: 10.7s\tremaining: 29.5s\n",
      "133:\ttest: 0.0000000\tbest: 0.0000000 (0)\ttotal: 10.8s\tremaining: 29.4s\n",
      "134:\ttest: 0.0000000\tbest: 0.0000000 (0)\ttotal: 10.8s\tremaining: 29.3s\n",
      "135:\ttest: 0.0000000\tbest: 0.0000000 (0)\ttotal: 10.9s\tremaining: 29.2s\n",
      "136:\ttest: 0.0000000\tbest: 0.0000000 (0)\ttotal: 11s\tremaining: 29.1s\n",
      "137:\ttest: 0.0000000\tbest: 0.0000000 (0)\ttotal: 11.1s\tremaining: 29.1s\n",
      "138:\ttest: 0.0000000\tbest: 0.0000000 (0)\ttotal: 11.1s\tremaining: 29s\n",
      "139:\ttest: 0.0000000\tbest: 0.0000000 (0)\ttotal: 11.2s\tremaining: 28.9s\n",
      "140:\ttest: 0.0000000\tbest: 0.0000000 (0)\ttotal: 11.3s\tremaining: 28.8s\n",
      "141:\ttest: 0.0000000\tbest: 0.0000000 (0)\ttotal: 11.4s\tremaining: 28.7s\n",
      "142:\ttest: 0.0000000\tbest: 0.0000000 (0)\ttotal: 11.5s\tremaining: 28.6s\n",
      "143:\ttest: 0.0000000\tbest: 0.0000000 (0)\ttotal: 11.5s\tremaining: 28.5s\n",
      "144:\ttest: 0.0000000\tbest: 0.0000000 (0)\ttotal: 11.6s\tremaining: 28.4s\n",
      "145:\ttest: 0.0000000\tbest: 0.0000000 (0)\ttotal: 11.7s\tremaining: 28.3s\n",
      "146:\ttest: 0.0000000\tbest: 0.0000000 (0)\ttotal: 11.7s\tremaining: 28.1s\n",
      "147:\ttest: 0.0000000\tbest: 0.0000000 (0)\ttotal: 11.8s\tremaining: 28s\n",
      "148:\ttest: 0.0000000\tbest: 0.0000000 (0)\ttotal: 11.9s\tremaining: 27.9s\n",
      "149:\ttest: 0.0000000\tbest: 0.0000000 (0)\ttotal: 11.9s\tremaining: 27.8s\n",
      "150:\ttest: 0.0000000\tbest: 0.0000000 (0)\ttotal: 12s\tremaining: 27.8s\n",
      "Stopped by overfitting detector  (150 iterations wait)\n",
      "\n",
      "bestTest = 0\n",
      "bestIteration = 0\n",
      "\n"
     ]
    },
    {
     "data": {
      "text/plain": [
       "<catboost.core.CatBoostClassifier at 0x1b89eff7850>"
      ]
     },
     "execution_count": 12,
     "metadata": {},
     "output_type": "execute_result"
    }
   ],
   "execution_count": 12
  },
  {
   "metadata": {
    "ExecuteTime": {
     "end_time": "2024-10-27T11:42:39.030759Z",
     "start_time": "2024-10-27T11:42:38.627757Z"
    }
   },
   "cell_type": "code",
   "source": [
    "feature_importance = (\n",
    "    pd.DataFrame(\n",
    "        model.get_feature_importance(), index=X.columns, columns=[\"importance\"]\n",
    "    )\n",
    "    .sort_values(\"importance\", ascending=True)\n",
    "    .tail(30)\n",
    ")\n",
    "feature_importance.plot(kind=\"barh\", title=\"Feature importance\")"
   ],
   "id": "63ffbc23f7105c87",
   "outputs": [
    {
     "data": {
      "text/plain": [
       "<Axes: title={'center': 'Feature importance'}, ylabel='metric_name'>"
      ]
     },
     "execution_count": 13,
     "metadata": {},
     "output_type": "execute_result"
    },
    {
     "data": {
      "text/plain": [
       "<Figure size 640x480 with 1 Axes>"
      ],
      "image/png": "[encoded data removed]"
     },
     "metadata": {},
     "output_type": "display_data"
    }
   ],
   "execution_count": 13
  },
  {
   "metadata": {
    "ExecuteTime": {
     "end_time": "2024-10-27T13:04:26.253854Z",
     "start_time": "2024-10-27T11:42:39.032755Z"
    }
   },
   "cell_type": "code",
   "source": [
    "# Extract edges from both graphs\n",
    "edges_in_graph = set(graph.edges())\n",
    "edges_in_validation_graph = set(validation_graph.edges())\n",
    "\n",
    "# Find new edges in validation_graph that are not in graph\n",
    "new_edges = edges_in_validation_graph - edges_in_graph\n",
    "\n",
    "# Convert the set of new edges to a DataFrame\n",
    "new_edges = pd.DataFrame(list(new_edges), columns=[DRUG, REACTION])\n",
    "\n",
    "# Check the nodes of the edges exist in the original graph\n",
    "new_edges = new_edges[\n",
    "    new_edges[DRUG].apply(lambda x: x in graph.nodes)\n",
    "    & new_edges[REACTION].apply(lambda x: x in graph.nodes)\n",
    "]\n",
    "\n",
    "\n",
    "def check_prediction(drug, newly_added_edges, graph_before, cutoff=0.5):\n",
    "    newly_added_edges_to_drug = newly_added_edges[newly_added_edges[DRUG] == drug]\n",
    "    n_added = newly_added_edges_to_drug.shape[0]\n",
    "    print(f\"The node {drug} has {n_added:,} new neighbors.\")\n",
    "    \n",
    "    if not n_added:\n",
    "        return\n",
    "    \n",
    "    to_predict_x = []\n",
    "    to_predict_y = []\n",
    "    \n",
    "    reaction_nodes = [node for node, data in graph_before.nodes(data=True) if data['type'] == REACTION]\n",
    "    print(f\"Reactions len: {len(reaction_nodes)}\")\n",
    "    for target in tqdm(reaction_nodes, desc=\"Processing reaction nodes\"):\n",
    "        if target == drug:\n",
    "            continue\n",
    "        \n",
    "        u, v = (target, drug)\n",
    "        \n",
    "        jaccard_coefficient = nx.jaccard_coefficient(graph_before, [(u, v)])\n",
    "        adamic_adar_index = nx.adamic_adar_index(graph_before, [(u, v)])\n",
    "        preferential_attachment = nx.preferential_attachment(graph_before, [(u, v)])\n",
    "        common_neighbors = nx.common_neighbors(graph_before, u, v)\n",
    "        resource_allocation_index = nx.resource_allocation_index(graph_before, [(u, v)])\n",
    "        \n",
    "        x_other = pd.Series({\n",
    "            \"adamic_adar_index\": list(adamic_adar_index)[0][-1],\n",
    "            \"common_neighbors\": len(list(common_neighbors)),\n",
    "            \"jaccard_coefficient\": list(jaccard_coefficient)[0][-1],\n",
    "            \"preferential_attachment\": list(preferential_attachment)[0][-1],\n",
    "            \"resource_allocation_index\": list(resource_allocation_index)[0][-1],\n",
    "        })\n",
    "        \n",
    "        to_predict_x.append(x_other)\n",
    "        to_predict_y.append(\n",
    "            newly_added_edges[\n",
    "                (newly_added_edges[DRUG] == drug) & (newly_added_edges[REACTION] == target)\n",
    "            ].shape[0] > 0\n",
    "        )\n",
    "        # print(f\"Added edge: {u}, {v}\")\n",
    "    \n",
    "    to_predict_x = pd.DataFrame(to_predict_x)\n",
    "    observed = np.array(to_predict_y)\n",
    "    print(\"Running prediction:\")\n",
    "    predicted_proba = model.predict_proba(to_predict_x)\n",
    "    predicted = predicted_proba[:, 1] > cutoff\n",
    "    print(f\"Predicted: {predicted.shape[0]}\")\n",
    "    fpr, tpr, _ = roc_curve(y_true=observed, y_score=predicted_proba[:, 1])\n",
    "    roc_auc = auc(fpr, tpr)\n",
    "    \n",
    "    fig, axes = plt.subplots(ncols=2)\n",
    "    \n",
    "    ax = axes[0]\n",
    "    ax.plot(fpr, tpr, label=f\"ROC curve (area = {roc_auc:.2f})\")\n",
    "    ax.plot([0, 1], [0, 1], \"k--\")\n",
    "    ax.set_xlabel(\"False Positive Rate\")\n",
    "    ax.set_ylabel(\"True Positive Rate\")\n",
    "    ax.set_aspect(\"equal\")\n",
    "    \n",
    "    ax = axes[1]\n",
    "    venn2(\n",
    "        subsets=(set(np.where(observed)[0]), set(np.where(predicted)[0])),\n",
    "        set_labels=(\"Observed\", \"Predicted\"),\n",
    "        ax=ax,\n",
    "    )\n",
    "    \n",
    "    fig.suptitle(f\"Drug node {drug}: AUC={roc_auc:.2f}\")\n",
    "    plt.show()\n",
    "    \n",
    "check_prediction(\"XOLAIR\", new_edges, graph)"
   ],
   "id": "6d0551ab7757d689",
   "outputs": [
    {
     "name": "stdout",
     "output_type": "stream",
     "text": [
      "The node XOLAIR has 186 new neighbors.\n",
      "Reactions len: 19229\n"
     ]
    },
    {
     "data": {
      "text/plain": [
       "Processing reaction nodes:   0%|          | 0/19229 [00:00<?, ?it/s]"
      ],
      "application/vnd.jupyter.widget-view+json": {
       "version_major": 2,
       "version_minor": 0,
       "model_id": "c7da1bd6080447228e78aafccae3d75e"
      }
     },
     "metadata": {},
     "output_type": "display_data"
    },
    {
     "name": "stdout",
     "output_type": "stream",
     "text": [
      "Running prediction:\n",
      "Predicted: 19229\n"
     ]
    },
    {
     "data": {
      "text/plain": [
       "<Figure size 640x480 with 2 Axes>"
      ],
      "image/png": "[encoded data removed]"
     },
     "metadata": {},
     "output_type": "display_data"
    }
   ],
   "execution_count": 14
  },
  {
   "metadata": {
    "ExecuteTime": {
     "end_time": "2024-10-27T14:15:40.658866Z",
     "start_time": "2024-10-27T13:04:26.256836Z"
    }
   },
   "cell_type": "code",
   "source": [
    "# new_edges = validation_graph[ (validation_graph[DRUG], validation_graph[REACTION]) not in graph.edges() ]\n",
    "\n",
    "# Extract edges from both graphs\n",
    "edges_in_graph = set(graph.edges())\n",
    "edges_in_validation_graph = set(validation_graph.edges())\n",
    "\n",
    "# Find new edges in validation_graph that are not in graph\n",
    "new_edges = edges_in_validation_graph - edges_in_graph\n",
    "\n",
    "# Convert the set of new edges to a DataFrame\n",
    "new_edges = pd.DataFrame(list(new_edges), columns=[DRUG, REACTION])\n",
    "\n",
    "\n",
    "def check_prediction(drug, newly_added_edges, graph_before, cutoff=0.5):\n",
    "    newly_added_edges_to_drug = newly_added_edges[newly_added_edges[DRUG] == drug]\n",
    "    n_added = newly_added_edges_to_drug.shape[0]\n",
    "    print(f\"The node {drug} has {n_added:,} new neighbors.\")\n",
    "    \n",
    "    if not n_added:\n",
    "        return\n",
    "    \n",
    "    to_predict_x = []\n",
    "    to_predict_y = []\n",
    "    \n",
    "    reaction_nodes = [node for node, data in graph_before.nodes(data=True) if data['type'] == REACTION]\n",
    "    print(f\"Reactions len: {len(reaction_nodes)}\")\n",
    "    for target in tqdm(reaction_nodes, desc=\"Processing reaction nodes\"):\n",
    "        if target == drug:\n",
    "            continue\n",
    "            \n",
    "        if graph_before.has_edge(target, drug):\n",
    "            continue\n",
    "        \n",
    "        u, v = (target, drug)\n",
    "        \n",
    "        jaccard_coefficient = nx.jaccard_coefficient(graph_before, [(u, v)])\n",
    "        adamic_adar_index = nx.adamic_adar_index(graph_before, [(u, v)])\n",
    "        preferential_attachment = nx.preferential_attachment(graph_before, [(u, v)])\n",
    "        common_neighbors = nx.common_neighbors(graph_before, u, v)\n",
    "        resource_allocation_index = nx.resource_allocation_index(graph_before, [(u, v)])\n",
    "        \n",
    "        x_other = pd.Series({\n",
    "            \"adamic_adar_index\": list(adamic_adar_index)[0][-1],\n",
    "            \"common_neighbors\": len(list(common_neighbors)),\n",
    "            \"jaccard_coefficient\": list(jaccard_coefficient)[0][-1],\n",
    "            \"preferential_attachment\": list(preferential_attachment)[0][-1],\n",
    "            \"resource_allocation_index\": list(resource_allocation_index)[0][-1],\n",
    "        })\n",
    "        \n",
    "        to_predict_x.append(x_other)\n",
    "        to_predict_y.append(\n",
    "            newly_added_edges[\n",
    "                (newly_added_edges[DRUG] == drug) & (newly_added_edges[REACTION] == target)\n",
    "            ].shape[0] > 0\n",
    "        )\n",
    "        # print(f\"Added edge: {u}, {v}\")\n",
    "    \n",
    "    to_predict_x = pd.DataFrame(to_predict_x)\n",
    "    observed = np.array(to_predict_y)\n",
    "    print(f\"Observed: {observed.shape[0]}\")\n",
    "    print(\"Running prediction:\")\n",
    "    predicted_proba = model.predict_proba(to_predict_x)\n",
    "    predicted = predicted_proba[:, 1] > cutoff\n",
    "    print(f\"Predicted: {predicted.shape[0]}\")\n",
    "    fpr, tpr, _ = roc_curve(y_true=observed, y_score=predicted_proba[:, 1])\n",
    "    roc_auc = auc(fpr, tpr)\n",
    "    \n",
    "    fig, axes = plt.subplots(ncols=2)\n",
    "    \n",
    "    ax = axes[0]\n",
    "    ax.plot(fpr, tpr, label=f\"ROC curve (area = {roc_auc:.2f})\")\n",
    "    ax.plot([0, 1], [0, 1], \"k--\")\n",
    "    ax.set_xlabel(\"False Positive Rate\")\n",
    "    ax.set_ylabel(\"True Positive Rate\")\n",
    "    ax.set_aspect(\"equal\")\n",
    "    \n",
    "    ax = axes[1]\n",
    "    venn2(\n",
    "        subsets=(set(np.where(observed)[0]), set(np.where(predicted)[0])),\n",
    "        set_labels=(\"Observed\", \"Predicted\"),\n",
    "        ax=ax,\n",
    "    )\n",
    "    \n",
    "    fig.suptitle(f\"Drug node {drug}: AUC={roc_auc:.2f}\")\n",
    "    plt.show()\n",
    "    \n",
    "check_prediction(\"XOLAIR\", new_edges, graph)"
   ],
   "id": "bde5abc05111bb59",
   "outputs": [
    {
     "name": "stdout",
     "output_type": "stream",
     "text": [
      "The node XOLAIR has 193 new neighbors.\n",
      "Reactions len: 19229\n"
     ]
    },
    {
     "data": {
      "text/plain": [
       "Processing reaction nodes:   0%|          | 0/19229 [00:00<?, ?it/s]"
      ],
      "application/vnd.jupyter.widget-view+json": {
       "version_major": 2,
       "version_minor": 0,
       "model_id": "4340a9d744754254993c4f7ef5687722"
      }
     },
     "metadata": {},
     "output_type": "display_data"
    },
    {
     "name": "stdout",
     "output_type": "stream",
     "text": [
      "Observed: 15791\n",
      "Running prediction:\n",
      "Predicted: 15791\n"
     ]
    },
    {
     "data": {
      "text/plain": [
       "<Figure size 640x480 with 2 Axes>"
      ],
      "image/png": "[encoded data removed]"
     },
     "metadata": {},
     "output_type": "display_data"
    }
   ],
   "execution_count": 15
  },
  {
   "metadata": {
    "ExecuteTime": {
     "end_time": "2024-10-27T14:15:40.674895Z",
     "start_time": "2024-10-27T14:15:40.660863Z"
    }
   },
   "cell_type": "code",
   "source": "",
   "id": "b270b2350ac2ce54",
   "outputs": [],
   "execution_count": 15
  }
 ],
 "metadata": {
  "kernelspec": {
   "display_name": "Python 3",
   "language": "python",
   "name": "python3"
  },
  "language_info": {
   "codemirror_mode": {
    "name": "ipython",
    "version": 2
   },
   "file_extension": ".py",
   "mimetype": "text/x-python",
   "name": "python",
   "nbconvert_exporter": "python",
   "pygments_lexer": "ipython2",
   "version": "2.7.6"
  }
 },
 "nbformat": 4,
 "nbformat_minor": 5
}
